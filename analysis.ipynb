{
 "cells": [
  {
   "cell_type": "markdown",
   "metadata": {},
   "source": [
    "## intruduction\n",
    "数据从 log 录入 sqlite 的工作由 golang 完成"
   ]
  },
  {
   "cell_type": "code",
   "execution_count": 3,
   "metadata": {},
   "outputs": [
    {
     "name": "stdout",
     "output_type": "stream",
     "text": [
      "('usvq', '123456', 6)\n",
      "('blbl', '123456', 4)\n",
      "('igus', '123456', 4)\n",
      "('tmww', '123456', 4)\n",
      "('wbyl', '123456', 4)\n",
      "('adyt', '123456', 3)\n",
      "('dnyi', '123456', 3)\n",
      "('gcwf', '123456', 3)\n",
      "('ipuk', '123456', 3)\n",
      "('ntia', '123456', 3)\n"
     ]
    }
   ],
   "source": [
    "# 准备工作\n",
    "\n",
    "import sqlite3\n",
    "\n",
    "conn = sqlite3.connect('data/test.db')\n",
    "cursor = conn.cursor()\n",
    "\n",
    "cursor.execute('SELECT user, password, count(*) FROM records where password = \"123456\" GROUP BY user, password ORDER BY count(*) DESC LIMIT 10')\n",
    "results = cursor.fetchall()\n",
    "for row in results:\n",
    "    print(row)"
   ]
  },
  {
   "cell_type": "code",
   "execution_count": 7,
   "metadata": {},
   "outputs": [
    {
     "name": "stdout",
     "output_type": "stream",
     "text": [
      "['123456', 'nted', 'ituq', 'rwyk', 'naga', 'hhdm', 'stug', 'qyqy', 'lfbe', 'gard'] [110, 5, 5, 4, 4, 4, 3, 3, 3, 3]\n"
     ]
    },
    {
     "data": {
      "image/png": "[encoded data removed]",
      "text/plain": [
       "<Figure size 640x480 with 1 Axes>"
      ]
     },
     "metadata": {},
     "output_type": "display_data"
    }
   ],
   "source": [
    "import matplotlib.pyplot as plt\n",
    "users = []\n",
    "counts = []\n",
    "\n",
    "cursor.execute('SELECT password, count(*) FROM records GROUP BY password ORDER BY count(*) DESC LIMIT 10')\n",
    "results = cursor.fetchall()\n",
    "for row in results:\n",
    "    users.append(row[0])\n",
    "    counts.append(row[1])\n",
    "\n",
    "print(users, counts)\n",
    "# 绘制条形图\n",
    "plt.bar(users, counts)\n",
    "\n",
    "# 添加标题和轴标签\n",
    "plt.title('Bar Chart Example')\n",
    "plt.xlabel('Categories')\n",
    "plt.ylabel('Values')\n",
    "\n",
    "# 显示图形\n",
    "plt.show()"
   ]
  },
  {
   "cell_type": "code",
   "execution_count": 7,
   "metadata": {},
   "outputs": [
    {
     "name": "stdout",
     "output_type": "stream",
     "text": [
      "PureNumber: 118, PureLetter: 109\n",
      "{6: 111, 8: 1, 1: 2, 2: 1, 5: 1, 3: 1, 4: 1}\n",
      "{4: 91, 10: 3, 8: 3, 2: 2, 9: 1, 3: 3, 6: 4, 11: 2}\n"
     ]
    }
   ],
   "source": [
    "import re\n",
    "\n",
    "rePureNum = r\"^\\d+$\"\n",
    "rePureLetter = r\"^[a-zA-Z]+$\"\n",
    "\n",
    "\n",
    "\n",
    "def is_pattern_common(password):\n",
    "    return re.search(rePureNum, password)\n",
    "\n",
    "def is_pattern_pure_letter(password):\n",
    "    return re.search(rePureLetter, password)\n",
    "\n",
    "cntPureNumber = 0\n",
    "cntPureLetter = 0\n",
    "mapNumberLenCount = {}\n",
    "mapLetterLenCount = {}\n",
    "\n",
    "cursor.execute('SELECT password FROM records')\n",
    "results = cursor.fetchall()\n",
    "for row in results:\n",
    "\n",
    "    if is_pattern_common(row[0]):\n",
    "        cntPureNumber += 1\n",
    "        if len(row[0]) not in mapNumberLenCount:\n",
    "            mapNumberLenCount[len(row[0])] = 0\n",
    "        mapNumberLenCount[len(row[0])] += 1\n",
    "    elif is_pattern_pure_letter(row[0]):\n",
    "        cntPureLetter += 1\n",
    "        if len(row[0]) not in mapLetterLenCount:\n",
    "            mapLetterLenCount[len(row[0])] = 0\n",
    "        mapLetterLenCount[len(row[0])] += 1\n",
    "\n",
    "print(f\"PureNumber: {cntPureNumber}, PureLetter: {cntPureLetter}\")\n",
    "print(mapNumberLenCount)\n",
    "print(mapLetterLenCount)"
   ]
  }
 ],
 "metadata": {
  "kernelspec": {
   "display_name": "Python 3",
   "language": "python",
   "name": "python3"
  },
  "language_info": {
   "codemirror_mode": {
    "name": "ipython",
    "version": 3
   },
   "file_extension": ".py",
   "mimetype": "text/x-python",
   "name": "python",
   "nbconvert_exporter": "python",
   "pygments_lexer": "ipython3",
   "version": "3.11.7"
  }
 },
 "nbformat": 4,
 "nbformat_minor": 2
}
