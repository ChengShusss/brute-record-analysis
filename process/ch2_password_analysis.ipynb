{
 "cells": [
  {
   "cell_type": "markdown",
   "metadata": {},
   "source": [
    "## 此文件用于分析连接中的密码\n",
    "\n",
    "**outline**\n",
    "\n",
    "- 高频出现的弱密码及出处\n",
    "- 纯数字的模式 \n",
    "- 特定的键盘输入模式\n",
    "    - 例如：！、1、修改一个字母\n",
    "\n",
    "- 设计若干可以归一化的指标，"
   ]
  },
  {
   "cell_type": "markdown",
   "metadata": {},
   "source": [
    "### 高频出现密码的分析\n",
    "\n",
    "```\n",
    "  22253 123456\n",
    "   6952 123\n",
    "   3950 1234\n",
    "   2957 admin\n",
    "   2927 12345\n",
    "   2803 root\n",
    "   2435 test\n",
    "   2170 password\n",
    "   2042 12345678\n",
    "   2016 1\n",
    "   1861 toor\n",
    "   1567 qwerty\n",
    "   1541 guest\n",
    "   1446 ubuntu\n",
    "   1153 111111\n",
    "   1004 J5cmmu=Kyf0-br8CsW\n",
    "    878 5nWt3P-fF4WosQm5O\n",
    "    836 1qaz@WSX\n",
    "    780 123456789\n",
    "    711 0\n",
    "    696 123123\n",
    "    633 admin123\n",
    "    626 P@ssw0rd\n",
    "    594 1qq2w3e4r5t\n",
    "    588 1234567890\n",
    "    564 user\n",
    "    564 123qwe!@#\n",
    "    503 oracle\n",
    "    454 abc123\n",
    "    437 Aa123456\n",
    "```\n",
    "\n",
    "在此截取了连接记录中出现次数前 30 的密码，这些密码可以被分为如下几类：\n",
    "1. 纯数字组合，例如 123456、123、1234、12345、12345678、1、111111、123456789、0、123123、1234567890；\n",
    "2. 有特定含义的英文单词，例如 admin、root、test、password、guest、ubuntu、user、oracle；\n",
    "3. 键盘上的特定模式，例如 qwerty、1qaz@WSX、123qwe!@#、1qq2w3e4r5t;\n",
    "4. 简单英文和数字的组合，例如 admin123、abc123、Aa123456；\n",
    "5. 对原有常见密码的简单变形，例如 toor、P@ssw0rd；\n",
    "6. 没有直接意义但是位居前列的 J5cmmu=Kyf0-br8CsW 和 5nWt3P-fF4WosQm5O。\n",
    "\n"
   ]
  },
  {
   "cell_type": "code",
   "execution_count": null,
   "metadata": {},
   "outputs": [],
   "source": []
  }
 ],
 "metadata": {
  "language_info": {
   "name": "python"
  }
 },
 "nbformat": 4,
 "nbformat_minor": 2
}
